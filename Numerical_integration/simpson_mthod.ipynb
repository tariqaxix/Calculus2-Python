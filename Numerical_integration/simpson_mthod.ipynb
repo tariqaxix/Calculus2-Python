{
 "cells": [
  {
   "cell_type": "code",
   "execution_count": 1,
   "metadata": {},
   "outputs": [],
   "source": [
    "#Importing necessary libraries\n",
    "import sympy as sym\n",
    "from sympy.abc import x\n",
    "from scipy.integrate import quad\n",
    "from math import sin, cos, tan, log, e, pi\n",
    "import numpy as np\n",
    "from random import randint\n",
    "import matplotlib.pyplot as plt\n",
    "%matplotlib inline"
   ]
  },
  {
   "cell_type": "code",
   "execution_count": 2,
   "metadata": {},
   "outputs": [],
   "source": [
    "#Taking input from user\n",
    "func = input('Enter the function: ')\n",
    "function = sym.lambdify(x, func)\n",
    "init_point = int(input('Enter the start of the interval: '))\n",
    "end_point = int(input('Enter the end of the interval: '))"
   ]
  },
  {
   "cell_type": "code",
   "execution_count": 5,
   "metadata": {},
   "outputs": [
    {
     "data": {
      "text/plain": [
       "'1.4161468770117984'"
      ]
     },
     "execution_count": 5,
     "metadata": {},
     "output_type": "execute_result"
    }
   ],
   "source": [
    "#Function code\n",
    "def Simpsons_method(function:str, init_point:int, end_point:int)->str:\n",
    "    def find_polynomial(x1, x2, x3, y1, y2, y3):\n",
    "        a = (x1*(y3-y2) + x2*(y1-y3) + x3*(y2-y1))/((x1-x2)*(x1-x3)*(x2-x3))\n",
    "        b = ((y2-y1)/(x2-x1)) - a*(x1+x2)\n",
    "        c = y1 - a*x1**2 - b*x1\n",
    "        return sym.lambdify(x, sym.sympify('{}*x**2 + {}*x + {}'.format(a, b, c)))\n",
    "    n = randint(5, 50)\n",
    "    if n % 2 != 0:\n",
    "        n += 1\n",
    "    x_val = np.linspace(init_point, end_point, n+1)\n",
    "    dx = (end_point-init_point)/n\n",
    "    Area = 0\n",
    "    for i in range(0, len(x_val)-2, 2):\n",
    "        x_1, x_2, x_3 = x_val[i], x_val[i+1], x_val[i+2] \n",
    "        pol_func = find_polynomial(x_1, x_2, x_3, function(x_1), function(x_2), function(x_3))\n",
    "        Area += quad(pol_func ,x_1, x_3)[0]\n",
    "        \n",
    "    return str(Area)   \n",
    "\n",
    "\n",
    "Simpsons_method(function, init_point, end_point)\n"
   ]
  },
  {
   "cell_type": "code",
   "execution_count": 6,
   "metadata": {},
   "outputs": [
    {
     "data": {
      "image/png": "[encoded data removed]",
      "text/plain": [
       "<Figure size 432x288 with 1 Axes>"
      ]
     },
     "metadata": {
      "needs_background": "light"
     },
     "output_type": "display_data"
    }
   ],
   "source": [
    "#function Graph\n",
    "def Simpsons_method_graph(function,init_point,end_point):\n",
    "    array = np.linspace(init_point, end_point, 50)\n",
    "    plt.plot(array, function(array), color='black')\n",
    "    n = randint(5, 50)\n",
    "    if n % 2 != 0:\n",
    "        n += 1\n",
    "    x_val = np.linspace(init_point, end_point, n+1)\n",
    "    area_of_parab = 0\n",
    "    def find_polynomial(x1, x2, x3, y1, y2, y3):\n",
    "      a = (x1*(y3-y2) + x2*(y1-y3) + x3*(y2-y1))/((x1-x2)*(x1-x3)*(x2-x3))\n",
    "      b = ((y2-y1)/(x2-x1)) - a*(x1+x2)\n",
    "      c = y1 - a*x1**2 - b*x1\n",
    "      return sym.lambdify(x, sym.sympify('{}*x**2 + {}*x + {}'.format(a, b, c)))\n",
    "\n",
    "    for i in range(0, len(x_val)-2, 2):\n",
    "      x_1, x_2, x_3 = x_val[i], x_val[i+1], x_val[i+2]\n",
    "      pol_func = find_polynomial(x_1, x_2, x_3, function(x_1), function(x_2), function(x_3))\n",
    "      area_of_parab += quad(pol_func ,x_1, x_3)[0]\n",
    "      array = np.linspace(x_val[i], x_val[i+2], 50)\n",
    "      plt.fill_between(array, pol_func(array)) \n",
    "      plt.savefig('Simpson_Method_Graph.png')\n",
    "     \n",
    "\n",
    "Simpsons_method_graph(function,init_point,end_point)"
   ]
  }
 ],
 "metadata": {
  "interpreter": {
   "hash": "964c60ca639042c57060453a48d9802cebba79c3ea18889ffd56016493ac596f"
  },
  "kernelspec": {
   "display_name": "Python 3.9.2 64-bit",
   "language": "python",
   "name": "python3"
  },
  "language_info": {
   "codemirror_mode": {
    "name": "ipython",
    "version": 3
   },
   "file_extension": ".py",
   "mimetype": "text/x-python",
   "name": "python",
   "nbconvert_exporter": "python",
   "pygments_lexer": "ipython3",
   "version": "3.9.2"
  },
  "orig_nbformat": 4
 },
 "nbformat": 4,
 "nbformat_minor": 2
}
