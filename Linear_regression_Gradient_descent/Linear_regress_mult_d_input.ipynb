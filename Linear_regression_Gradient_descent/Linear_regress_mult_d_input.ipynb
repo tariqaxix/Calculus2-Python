{
 "cells": [
  {
   "cell_type": "code",
   "execution_count": 1,
   "metadata": {},
   "outputs": [],
   "source": [
    "#importing Libraries\n",
    "import numpy as np\n",
    "import matplotlib.pyplot as plt"
   ]
  },
  {
   "cell_type": "code",
   "execution_count": 2,
   "metadata": {},
   "outputs": [],
   "source": [
    "#Defining Arrays here\n",
    "X = np.array([[1,10,5,7], [1,9,8,3], [1,5,8,2], [1,2,9,4]])\n",
    "Y = np.array([15,20,35,25])\n",
    "assert len(X) ==len(Y)"
   ]
  },
  {
   "cell_type": "code",
   "execution_count": 3,
   "metadata": {},
   "outputs": [
    {
     "name": "stdout",
     "output_type": "stream",
     "text": [
      "[173.08376736  -1.54730903 -23.99956597  10.14756944]\n"
     ]
    }
   ],
   "source": [
    "x_transpose = X.T\n",
    "X_tX = np.dot(x_transpose,X)\n",
    "inverse = np.linalg.pinv(np.matmul(X_tX, X))\n",
    "w = np.matmul(np.matmul(inverse, x_transpose), Y)\n",
    "print(w)"
   ]
  },
  {
   "cell_type": "code",
   "execution_count": 11,
   "metadata": {},
   "outputs": [
    {
     "name": "stdout",
     "output_type": "stream",
     "text": [
      "[ 3 14  6  6]\n",
      "414.4769965213352\n"
     ]
    }
   ],
   "source": [
    "#Prediction\n",
    "x = np.random.randint(1,20,4)\n",
    "print(x)\n",
    "price = np.dot(x, w)\n",
    "print(price)"
   ]
  }
 ],
 "metadata": {
  "interpreter": {
   "hash": "964c60ca639042c57060453a48d9802cebba79c3ea18889ffd56016493ac596f"
  },
  "kernelspec": {
   "display_name": "Python 3.9.2 64-bit",
   "language": "python",
   "name": "python3"
  },
  "language_info": {
   "codemirror_mode": {
    "name": "ipython",
    "version": 3
   },
   "file_extension": ".py",
   "mimetype": "text/x-python",
   "name": "python",
   "nbconvert_exporter": "python",
   "pygments_lexer": "ipython3",
   "version": "3.9.2"
  },
  "orig_nbformat": 4
 },
 "nbformat": 4,
 "nbformat_minor": 2
}
