{
 "cells": [
  {
   "cell_type": "code",
   "execution_count": 2,
   "metadata": {},
   "outputs": [],
   "source": [
    "#Importing Libraries\n",
    "import matplotlib.pyplot as plt\n",
    "from scipy import stats\n",
    "import numpy as np\n",
    "import sympy as sym"
   ]
  },
  {
   "cell_type": "code",
   "execution_count": 64,
   "metadata": {},
   "outputs": [
    {
     "name": "stdout",
     "output_type": "stream",
     "text": [
      "[7 5 5 3 2 7 4 8 9 3 7 7 4 7 8 8 4 3 8 8]\n",
      "[8 1 6 7 9 7 1 9 6 4 5 4 8 8 8 5 4 2 9 8]\n",
      "Slope is 0.4180011043622308\n",
      "Intercept is 3.50469353948095\n"
     ]
    }
   ],
   "source": [
    "#Code\n",
    "x = np.random.randint(1,10,20)\n",
    "y = np.random.randint(1,10,20)\n",
    "print(x)\n",
    "print(y)\n",
    "slope, intercept, r, p, std_err = stats.linregress(x, y)\n",
    "\n",
    "def my_function(x):\n",
    "  return slope * x + intercept\n",
    "print(\"Slope is\", slope)\n",
    "print(\"Intercept is\", intercept)"
   ]
  },
  {
   "cell_type": "code",
   "execution_count": 65,
   "metadata": {},
   "outputs": [
    {
     "data": {
      "image/png": "[encoded data removed]",
      "text/plain": [
       "<Figure size 432x288 with 1 Axes>"
      ]
     },
     "metadata": {
      "needs_background": "light"
     },
     "output_type": "display_data"
    }
   ],
   "source": [
    "#Plotiing graph\n",
    "my_model = list(map(my_function, x))\n",
    "plt.scatter(x, y)\n",
    "plt.plot(x, my_model, 'g')\n",
    "plt.show()"
   ]
  }
 ],
 "metadata": {
  "interpreter": {
   "hash": "964c60ca639042c57060453a48d9802cebba79c3ea18889ffd56016493ac596f"
  },
  "kernelspec": {
   "display_name": "Python 3.9.2 64-bit",
   "language": "python",
   "name": "python3"
  },
  "language_info": {
   "codemirror_mode": {
    "name": "ipython",
    "version": 3
   },
   "file_extension": ".py",
   "mimetype": "text/x-python",
   "name": "python",
   "nbconvert_exporter": "python",
   "pygments_lexer": "ipython3",
   "version": "3.9.2"
  },
  "orig_nbformat": 4
 },
 "nbformat": 4,
 "nbformat_minor": 2
}
