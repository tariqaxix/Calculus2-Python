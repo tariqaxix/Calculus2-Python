{
 "cells": [
  {
   "cell_type": "code",
   "execution_count": 1,
   "metadata": {},
   "outputs": [
    {
     "name": "stdout",
     "output_type": "stream",
     "text": [
      "Pi value using  Ramanujan's Series is :  3.141592653589793\n"
     ]
    }
   ],
   "source": [
    "import math\n",
    "def factorial(n):\n",
    "    if n <= 1:\n",
    "        return 1\n",
    "    else:\n",
    "        return n * factorial(n - 1)\n",
    "def pi_value():\n",
    "  n = 0\n",
    "  sum = 0\n",
    "    \n",
    "  i = (math.sqrt(8))/9801\n",
    "\n",
    "  while True:\n",
    "        t = i*(factorial(4*n)/pow(factorial(n),4))*((26390*n+1103)/pow(396,4*n))\n",
    "        sum +=t\n",
    "\n",
    "        if(abs(t) < 1e-15):\n",
    "            break\n",
    "        n += 1\n",
    "\n",
    "  return(1/sum)\n",
    "    \n",
    "print(\"Pi value using  Ramanujan's Series is : \",pi_value())"
   ]
  }
 ],
 "metadata": {
  "interpreter": {
   "hash": "964c60ca639042c57060453a48d9802cebba79c3ea18889ffd56016493ac596f"
  },
  "kernelspec": {
   "display_name": "Python 3.9.2 64-bit",
   "language": "python",
   "name": "python3"
  },
  "language_info": {
   "codemirror_mode": {
    "name": "ipython",
    "version": 3
   },
   "file_extension": ".py",
   "mimetype": "text/x-python",
   "name": "python",
   "nbconvert_exporter": "python",
   "pygments_lexer": "ipython3",
   "version": "3.9.2"
  },
  "orig_nbformat": 4
 },
 "nbformat": 4,
 "nbformat_minor": 2
}
