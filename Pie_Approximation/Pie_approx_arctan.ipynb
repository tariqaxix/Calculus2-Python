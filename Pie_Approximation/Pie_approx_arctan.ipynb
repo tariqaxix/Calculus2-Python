{
 "cells": [
  {
   "cell_type": "code",
   "execution_count": 2,
   "metadata": {},
   "outputs": [
    {
     "name": "stdout",
     "output_type": "stream",
     "text": [
      "The value of pi using arctan is 3.1415924869231824\n"
     ]
    }
   ],
   "source": [
    "def pi_arctan(n):\n",
    "    Pi = 0\n",
    "    i = 1\n",
    "    while i <= n:\n",
    "        Pi = Pi + (-1)**(i+1)/(2*i - 1)\n",
    "        i = i+1\n",
    "    return 4*Pi\n",
    "print(\"The value of pi using arctan is\",pi_arctan(6000000))"
   ]
  }
 ],
 "metadata": {
  "interpreter": {
   "hash": "964c60ca639042c57060453a48d9802cebba79c3ea18889ffd56016493ac596f"
  },
  "kernelspec": {
   "display_name": "Python 3.9.2 64-bit",
   "language": "python",
   "name": "python3"
  },
  "language_info": {
   "codemirror_mode": {
    "name": "ipython",
    "version": 3
   },
   "file_extension": ".py",
   "mimetype": "text/x-python",
   "name": "python",
   "nbconvert_exporter": "python",
   "pygments_lexer": "ipython3",
   "version": "3.9.2"
  },
  "orig_nbformat": 4
 },
 "nbformat": 4,
 "nbformat_minor": 2
}
