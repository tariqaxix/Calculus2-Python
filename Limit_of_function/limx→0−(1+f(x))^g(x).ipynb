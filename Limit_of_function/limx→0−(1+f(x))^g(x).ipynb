{
 "cells": [
  {
   "cell_type": "code",
   "execution_count": 2,
   "metadata": {},
   "outputs": [],
   "source": [
    "#Importing Libraries\n",
    "import numpy as np\n",
    "import sympy as sym\n",
    "import matplotlib.pyplot as plt\n",
    "%matplotlib inline\n",
    "from sympy.abc import x\n",
    "import math\n",
    "from math import exp\n",
    "from math import e"
   ]
  },
  {
   "cell_type": "code",
   "execution_count": 5,
   "metadata": {},
   "outputs": [],
   "source": [
    "def f(x):\n",
    "    return (x**2/1-x)\n",
    "values = np.array([-0.1,-0.01,-0.001,-0.0001,-0.00001,0])"
   ]
  },
  {
   "cell_type": "code",
   "execution_count": 6,
   "metadata": {},
   "outputs": [],
   "source": [
    "def g(x):\n",
    "    return (1/x**2)\n",
    "values = np.array([-0.1,-0.01,-0.001,-0.0001,-0.00001,0])"
   ]
  },
  {
   "cell_type": "code",
   "execution_count": 7,
   "metadata": {},
   "outputs": [],
   "source": [
    "def d(x):\n",
    "    return ((1+f(x))**g(x))\n",
    "values = np.array([-0.1,-0.01,-0.001,-0.0001,-0.00001,0])"
   ]
  },
  {
   "cell_type": "code",
   "execution_count": 8,
   "metadata": {},
   "outputs": [
    {
     "name": "stdout",
     "output_type": "stream",
     "text": [
      "34064.17526964433\n",
      "4.402618736507528e+43\n",
      "inf\n",
      "inf\n",
      "inf\n",
      "1.0\n"
     ]
    },
    {
     "name": "stderr",
     "output_type": "stream",
     "text": [
      "C:\\Users\\tariq.aziz\\AppData\\Local\\Temp\\ipykernel_19544\\1022046165.py:2: RuntimeWarning: overflow encountered in double_scalars\n",
      "  return ((1+f(x))**g(x))\n",
      "C:\\Users\\tariq.aziz\\AppData\\Local\\Temp\\ipykernel_19544\\529505780.py:2: RuntimeWarning: divide by zero encountered in double_scalars\n",
      "  return (1/x**2)\n"
     ]
    }
   ],
   "source": [
    "for value in values:\n",
    "  print(d(value))"
   ]
  },
  {
   "cell_type": "code",
   "execution_count": 10,
   "metadata": {},
   "outputs": [
    {
     "name": "stderr",
     "output_type": "stream",
     "text": [
      "C:\\Users\\tariq.aziz\\AppData\\Local\\Temp\\ipykernel_19544\\529505780.py:2: RuntimeWarning: divide by zero encountered in true_divide\n",
      "  return (1/x**2)\n"
     ]
    },
    {
     "data": {
      "text/plain": [
       "[<matplotlib.lines.Line2D at 0x16d42b136d0>]"
      ]
     },
     "execution_count": 10,
     "metadata": {},
     "output_type": "execute_result"
    },
    {
     "data": {
      "image/png": "[encoded data removed]",
      "text/plain": [
       "<Figure size 432x288 with 1 Axes>"
      ]
     },
     "metadata": {
      "needs_background": "light"
     },
     "output_type": "display_data"
    }
   ],
   "source": [
    "a = np.linspace(-3,3,101)\n",
    "plt.plot(a, d(a), \"b\", linewidth = 2 )"
   ]
  }
 ],
 "metadata": {
  "interpreter": {
   "hash": "964c60ca639042c57060453a48d9802cebba79c3ea18889ffd56016493ac596f"
  },
  "kernelspec": {
   "display_name": "Python 3.9.2 64-bit",
   "language": "python",
   "name": "python3"
  },
  "language_info": {
   "codemirror_mode": {
    "name": "ipython",
    "version": 3
   },
   "file_extension": ".py",
   "mimetype": "text/x-python",
   "name": "python",
   "nbconvert_exporter": "python",
   "pygments_lexer": "ipython3",
   "version": "3.9.2"
  },
  "orig_nbformat": 4
 },
 "nbformat": 4,
 "nbformat_minor": 2
}
