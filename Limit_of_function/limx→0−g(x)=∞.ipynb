{
 "cells": [
  {
   "cell_type": "code",
   "execution_count": 1,
   "metadata": {},
   "outputs": [],
   "source": [
    "#Importing Libraries\n",
    "%matplotlib notebook\n",
    "import numpy as np\n",
    "import sympy as sym\n",
    "import matplotlib.pyplot as plt\n",
    "%matplotlib inline\n",
    "from sympy.abc import x\n",
    "import math\n",
    "from math import exp\n",
    "from math import e"
   ]
  },
  {
   "cell_type": "code",
   "execution_count": 2,
   "metadata": {},
   "outputs": [],
   "source": [
    "def g(x):\n",
    "    return (1/x**2)\n",
    "values = np.array([-0.1,-0.01,-0.001,-0.0001,-0.00001,0])"
   ]
  },
  {
   "cell_type": "code",
   "execution_count": 3,
   "metadata": {},
   "outputs": [
    {
     "name": "stdout",
     "output_type": "stream",
     "text": [
      "99.99999999999999\n",
      "10000.0\n",
      "1000000.0\n",
      "100000000.0\n",
      "9999999999.999998\n",
      "inf\n"
     ]
    },
    {
     "name": "stderr",
     "output_type": "stream",
     "text": [
      "C:\\Users\\tariq.aziz\\AppData\\Local\\Temp\\ipykernel_16972\\529505780.py:2: RuntimeWarning: divide by zero encountered in double_scalars\n",
      "  return (1/x**2)\n"
     ]
    }
   ],
   "source": [
    "for value in values:\n",
    "  print(g(value))"
   ]
  },
  {
   "cell_type": "code",
   "execution_count": 5,
   "metadata": {},
   "outputs": [
    {
     "name": "stderr",
     "output_type": "stream",
     "text": [
      "C:\\Users\\tariq.aziz\\AppData\\Local\\Temp\\ipykernel_16972\\529505780.py:2: RuntimeWarning: divide by zero encountered in true_divide\n",
      "  return (1/x**2)\n"
     ]
    },
    {
     "data": {
      "text/plain": [
       "[<matplotlib.lines.Line2D at 0x2b866d52190>]"
      ]
     },
     "execution_count": 5,
     "metadata": {},
     "output_type": "execute_result"
    },
    {
     "data": {
      "image/png": "[encoded data removed]",
      "text/plain": [
       "<Figure size 432x288 with 1 Axes>"
      ]
     },
     "metadata": {
      "needs_background": "light"
     },
     "output_type": "display_data"
    }
   ],
   "source": [
    "a = np.linspace(-3,3,101) \n",
    "plt.plot(a, g(a), \"g\", linewidth = 2)"
   ]
  }
 ],
 "metadata": {
  "interpreter": {
   "hash": "964c60ca639042c57060453a48d9802cebba79c3ea18889ffd56016493ac596f"
  },
  "kernelspec": {
   "display_name": "Python 3.9.2 64-bit",
   "language": "python",
   "name": "python3"
  },
  "language_info": {
   "codemirror_mode": {
    "name": "ipython",
    "version": 3
   },
   "file_extension": ".py",
   "mimetype": "text/x-python",
   "name": "python",
   "nbconvert_exporter": "python",
   "pygments_lexer": "ipython3",
   "version": "3.9.2"
  },
  "orig_nbformat": 4
 },
 "nbformat": 4,
 "nbformat_minor": 2
}
