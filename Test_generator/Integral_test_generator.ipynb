{
 "cells": [
  {
   "cell_type": "code",
   "execution_count": 26,
   "metadata": {},
   "outputs": [],
   "source": [
    "\n",
    "#Importing necessary Libraries\n",
    "import random\n",
    "import scipy\n",
    "from scipy.integrate import quad\n",
    "from sympy import sympify"
   ]
  },
  {
   "cell_type": "code",
   "execution_count": 31,
   "metadata": {},
   "outputs": [
    {
     "data": {
      "text/plain": [
       "'The definite integral within limits 0 to 2 of the equation 3x^2 + 2x + 3 is = 18.0'"
      ]
     },
     "execution_count": 31,
     "metadata": {},
     "output_type": "execute_result"
    }
   ],
   "source": [
    "def gen_func(max_coeff=100, format='string')->str:\n",
    "    def integrand(x, a, b, c):\n",
    "        return a * x**2 + b * x + c\n",
    "\n",
    "    a = random.randint(0, max_coeff)\n",
    "    b = random.randint(0, max_coeff)\n",
    "    c = random.randint(0, max_coeff)\n",
    "    m = random.randint(0, max_coeff)\n",
    "    n = random.randint(0, max_coeff)\n",
    "\n",
    "    result = quad(integrand, m, n, args=(a, b, c))[0]\n",
    "    S = round(result, 4)\n",
    "    problem = f\"The definite integral within limits {m} to {n} of the equation \" + \\\n",
    "    str(a) + \"x^2 + \" + str(b) + \"x + \" + str(c) + \" is = \" + str(S)\n",
    "    return str(problem)\n",
    "gen_func(3,'problem')"
   ]
  }
 ],
 "metadata": {
  "interpreter": {
   "hash": "964c60ca639042c57060453a48d9802cebba79c3ea18889ffd56016493ac596f"
  },
  "kernelspec": {
   "display_name": "Python 3.9.2 64-bit",
   "language": "python",
   "name": "python3"
  },
  "language_info": {
   "codemirror_mode": {
    "name": "ipython",
    "version": 3
   },
   "file_extension": ".py",
   "mimetype": "text/x-python",
   "name": "python",
   "nbconvert_exporter": "python",
   "pygments_lexer": "ipython3",
   "version": "3.9.2"
  },
  "orig_nbformat": 4
 },
 "nbformat": 4,
 "nbformat_minor": 2
}
